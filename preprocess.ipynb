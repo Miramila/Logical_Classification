{
 "cells": [
  {
   "cell_type": "code",
   "execution_count": 63,
   "metadata": {},
   "outputs": [],
   "source": [
    "import pandas as pd\n",
    "import numpy as np\n",
    "import random"
   ]
  },
  {
   "cell_type": "code",
   "execution_count": 64,
   "metadata": {},
   "outputs": [],
   "source": [
    "def read_questions_from_file(filename):\n",
    "    questions = []\n",
    "    with open(filename, 'r') as file:\n",
    "        lines = file.readlines()\n",
    "        num_lines = len(lines)\n",
    "        i = 0\n",
    "        while i < num_lines:\n",
    "            # Skip blank line\n",
    "            i += 1\n",
    "            # Extracting correct answer\n",
    "            correct_answer = lines[i].strip()\n",
    "            correct_answer = 'option_'+correct_answer\n",
    "            i += 1\n",
    "            # Extracting context\n",
    "            context = lines[i].strip()\n",
    "            i += 1\n",
    "            # Extracting question\n",
    "            question = lines[i].strip()\n",
    "            i += 1\n",
    "            # Extracting options\n",
    "            options = [lines[j].strip() for j in range(i, i+4)]\n",
    "            i += 4\n",
    "            # Append to questions list\n",
    "            questions.append((context, question, *options, correct_answer))\n",
    "    questions = pd.DataFrame(questions, columns=['context', 'question', 'option_a', 'option_b', 'option_c', 'option_d', 'correct_answer'])\n",
    "    return questions"
   ]
  },
  {
   "cell_type": "markdown",
   "metadata": {},
   "source": [
    "We take out all the negation questions when reading in, so we assume that all the correct answers are logical in the context."
   ]
  },
  {
   "cell_type": "code",
   "execution_count": 65,
   "metadata": {},
   "outputs": [
    {
     "data": {
      "text/html": [
       "<div>\n",
       "<style scoped>\n",
       "    .dataframe tbody tr th:only-of-type {\n",
       "        vertical-align: middle;\n",
       "    }\n",
       "\n",
       "    .dataframe tbody tr th {\n",
       "        vertical-align: top;\n",
       "    }\n",
       "\n",
       "    .dataframe thead th {\n",
       "        text-align: right;\n",
       "    }\n",
       "</style>\n",
       "<table border=\"1\" class=\"dataframe\">\n",
       "  <thead>\n",
       "    <tr style=\"text-align: right;\">\n",
       "      <th></th>\n",
       "      <th>context</th>\n",
       "      <th>question</th>\n",
       "      <th>option_a</th>\n",
       "      <th>option_b</th>\n",
       "      <th>option_c</th>\n",
       "      <th>option_d</th>\n",
       "      <th>correct_answer</th>\n",
       "    </tr>\n",
       "  </thead>\n",
       "  <tbody>\n",
       "    <tr>\n",
       "      <th>0</th>\n",
       "      <td>Some Cantonese don't like chili, so some south...</td>\n",
       "      <td>Which of the following can guarantee the above...</td>\n",
       "      <td>A.Some Cantonese love chili</td>\n",
       "      <td>B.Some people who like peppers are southerners</td>\n",
       "      <td>C.All Cantonese are southerners</td>\n",
       "      <td>D.Some Cantonese like neither peppers nor sweets</td>\n",
       "      <td>option_c</td>\n",
       "    </tr>\n",
       "    <tr>\n",
       "      <th>1</th>\n",
       "      <td>Continuous exposure to indoor fluorescent ligh...</td>\n",
       "      <td>Which of the following questions was the initi...</td>\n",
       "      <td>A.Can hospital light therapy be proved to prom...</td>\n",
       "      <td>B.Which one lives longer, the hamster living u...</td>\n",
       "      <td>C.What kind of illness does the hamster have?</td>\n",
       "      <td>D.Do some hamsters need a period of darkness?</td>\n",
       "      <td>option_a</td>\n",
       "    </tr>\n",
       "    <tr>\n",
       "      <th>2</th>\n",
       "      <td>There is no doubt that minors should be prohib...</td>\n",
       "      <td>In order to evaluate the above argument, which...</td>\n",
       "      <td>A.Does the proportion of underage smokers in t...</td>\n",
       "      <td>B.How much inconvenience does the ban on the u...</td>\n",
       "      <td>C.Whether the proportion of unlicensed drivers...</td>\n",
       "      <td>D.Is the harm of minor smoking really as serio...</td>\n",
       "      <td>option_b</td>\n",
       "    </tr>\n",
       "    <tr>\n",
       "      <th>3</th>\n",
       "      <td>A research report states that a special educat...</td>\n",
       "      <td>Which of the following best illustrates the lo...</td>\n",
       "      <td>A.Children's cognitive abilities are constantl...</td>\n",
       "      <td>B.Establishing such education and training pro...</td>\n",
       "      <td>C.Many parents mistakenly believe that early f...</td>\n",
       "      <td>D.Investigators are unaware that they include ...</td>\n",
       "      <td>option_a</td>\n",
       "    </tr>\n",
       "    <tr>\n",
       "      <th>4</th>\n",
       "      <td>The traitor is a traitor, so you are a traitor...</td>\n",
       "      <td>Which of the following makes the same logical ...</td>\n",
       "      <td>A.Literature and art are not worthy of attenti...</td>\n",
       "      <td>B.Non-university can also become an outstandin...</td>\n",
       "      <td>C.The earth is a sphere, which can be proved f...</td>\n",
       "      <td>D.I saw them coming out of this chemical plant...</td>\n",
       "      <td>option_c</td>\n",
       "    </tr>\n",
       "  </tbody>\n",
       "</table>\n",
       "</div>"
      ],
      "text/plain": [
       "                                             context  \\\n",
       "0  Some Cantonese don't like chili, so some south...   \n",
       "1  Continuous exposure to indoor fluorescent ligh...   \n",
       "2  There is no doubt that minors should be prohib...   \n",
       "3  A research report states that a special educat...   \n",
       "4  The traitor is a traitor, so you are a traitor...   \n",
       "\n",
       "                                            question  \\\n",
       "0  Which of the following can guarantee the above...   \n",
       "1  Which of the following questions was the initi...   \n",
       "2  In order to evaluate the above argument, which...   \n",
       "3  Which of the following best illustrates the lo...   \n",
       "4  Which of the following makes the same logical ...   \n",
       "\n",
       "                                            option_a  \\\n",
       "0                        A.Some Cantonese love chili   \n",
       "1  A.Can hospital light therapy be proved to prom...   \n",
       "2  A.Does the proportion of underage smokers in t...   \n",
       "3  A.Children's cognitive abilities are constantl...   \n",
       "4  A.Literature and art are not worthy of attenti...   \n",
       "\n",
       "                                            option_b  \\\n",
       "0     B.Some people who like peppers are southerners   \n",
       "1  B.Which one lives longer, the hamster living u...   \n",
       "2  B.How much inconvenience does the ban on the u...   \n",
       "3  B.Establishing such education and training pro...   \n",
       "4  B.Non-university can also become an outstandin...   \n",
       "\n",
       "                                            option_c  \\\n",
       "0                    C.All Cantonese are southerners   \n",
       "1      C.What kind of illness does the hamster have?   \n",
       "2  C.Whether the proportion of unlicensed drivers...   \n",
       "3  C.Many parents mistakenly believe that early f...   \n",
       "4  C.The earth is a sphere, which can be proved f...   \n",
       "\n",
       "                                            option_d correct_answer  \n",
       "0   D.Some Cantonese like neither peppers nor sweets       option_c  \n",
       "1      D.Do some hamsters need a period of darkness?       option_a  \n",
       "2  D.Is the harm of minor smoking really as serio...       option_b  \n",
       "3  D.Investigators are unaware that they include ...       option_a  \n",
       "4  D.I saw them coming out of this chemical plant...       option_c  "
      ]
     },
     "execution_count": 65,
     "metadata": {},
     "output_type": "execute_result"
    }
   ],
   "source": [
    "train_filename = \"./dataset/Train.txt\"\n",
    "train_dataset = read_questions_from_file(train_filename)\n",
    "train_dataset.head()"
   ]
  },
  {
   "cell_type": "code",
   "execution_count": 66,
   "metadata": {},
   "outputs": [],
   "source": [
    "dev_filename = \"./dataset/Eval.txt\"\n",
    "test_filename = \"./dataset/Test.txt\"\n",
    "dev_dataset = read_questions_from_file(dev_filename)\n",
    "test_dataset = read_questions_from_file(test_filename)"
   ]
  },
  {
   "cell_type": "markdown",
   "metadata": {},
   "source": [
    "Then we randomly sample some wrong answers to be not logical, and label the row as 0, while other with correct answers to be 1."
   ]
  },
  {
   "cell_type": "code",
   "execution_count": 67,
   "metadata": {},
   "outputs": [],
   "source": [
    "def generate_answer_and_label(row):\n",
    "    if random.random() < 0.5:  # Randomly assign label 0 or 1\n",
    "        label = 0\n",
    "        answer_options = ['option_a', 'option_b', 'option_c', 'option_d']\n",
    "        answer_options.remove(row['correct_answer'])\n",
    "        answer = random.choice(answer_options)  # Randomly choose a wrong option\n",
    "        answer = row[answer]\n",
    "    else:\n",
    "        label = 1\n",
    "        answer = row[row['correct_answer']]\n",
    "    return pd.Series([answer, label], index=['Answer', 'Label'])"
   ]
  },
  {
   "cell_type": "code",
   "execution_count": 68,
   "metadata": {},
   "outputs": [
    {
     "data": {
      "text/html": [
       "<div>\n",
       "<style scoped>\n",
       "    .dataframe tbody tr th:only-of-type {\n",
       "        vertical-align: middle;\n",
       "    }\n",
       "\n",
       "    .dataframe tbody tr th {\n",
       "        vertical-align: top;\n",
       "    }\n",
       "\n",
       "    .dataframe thead th {\n",
       "        text-align: right;\n",
       "    }\n",
       "</style>\n",
       "<table border=\"1\" class=\"dataframe\">\n",
       "  <thead>\n",
       "    <tr style=\"text-align: right;\">\n",
       "      <th></th>\n",
       "      <th>context</th>\n",
       "      <th>question</th>\n",
       "      <th>Answer</th>\n",
       "      <th>Label</th>\n",
       "    </tr>\n",
       "  </thead>\n",
       "  <tbody>\n",
       "    <tr>\n",
       "      <th>0</th>\n",
       "      <td>Some Cantonese don't like chili, so some south...</td>\n",
       "      <td>Which of the following can guarantee the above...</td>\n",
       "      <td>D.Some Cantonese like neither peppers nor sweets</td>\n",
       "      <td>0</td>\n",
       "    </tr>\n",
       "    <tr>\n",
       "      <th>1</th>\n",
       "      <td>Continuous exposure to indoor fluorescent ligh...</td>\n",
       "      <td>Which of the following questions was the initi...</td>\n",
       "      <td>A.Can hospital light therapy be proved to prom...</td>\n",
       "      <td>1</td>\n",
       "    </tr>\n",
       "    <tr>\n",
       "      <th>2</th>\n",
       "      <td>There is no doubt that minors should be prohib...</td>\n",
       "      <td>In order to evaluate the above argument, which...</td>\n",
       "      <td>B.How much inconvenience does the ban on the u...</td>\n",
       "      <td>1</td>\n",
       "    </tr>\n",
       "    <tr>\n",
       "      <th>3</th>\n",
       "      <td>A research report states that a special educat...</td>\n",
       "      <td>Which of the following best illustrates the lo...</td>\n",
       "      <td>B.Establishing such education and training pro...</td>\n",
       "      <td>0</td>\n",
       "    </tr>\n",
       "    <tr>\n",
       "      <th>4</th>\n",
       "      <td>The traitor is a traitor, so you are a traitor...</td>\n",
       "      <td>Which of the following makes the same logical ...</td>\n",
       "      <td>C.The earth is a sphere, which can be proved f...</td>\n",
       "      <td>1</td>\n",
       "    </tr>\n",
       "  </tbody>\n",
       "</table>\n",
       "</div>"
      ],
      "text/plain": [
       "                                             context  \\\n",
       "0  Some Cantonese don't like chili, so some south...   \n",
       "1  Continuous exposure to indoor fluorescent ligh...   \n",
       "2  There is no doubt that minors should be prohib...   \n",
       "3  A research report states that a special educat...   \n",
       "4  The traitor is a traitor, so you are a traitor...   \n",
       "\n",
       "                                            question  \\\n",
       "0  Which of the following can guarantee the above...   \n",
       "1  Which of the following questions was the initi...   \n",
       "2  In order to evaluate the above argument, which...   \n",
       "3  Which of the following best illustrates the lo...   \n",
       "4  Which of the following makes the same logical ...   \n",
       "\n",
       "                                              Answer  Label  \n",
       "0   D.Some Cantonese like neither peppers nor sweets      0  \n",
       "1  A.Can hospital light therapy be proved to prom...      1  \n",
       "2  B.How much inconvenience does the ban on the u...      1  \n",
       "3  B.Establishing such education and training pro...      0  \n",
       "4  C.The earth is a sphere, which can be proved f...      1  "
      ]
     },
     "execution_count": 68,
     "metadata": {},
     "output_type": "execute_result"
    }
   ],
   "source": [
    "train_dataset[['Answer', 'Label']] = train_dataset.apply(generate_answer_and_label, axis=1)\n",
    "train_dataset.drop(columns=['option_a', 'option_b', 'option_c', 'option_d', 'correct_answer'], inplace=True)\n",
    "train_dataset.head()"
   ]
  },
  {
   "cell_type": "code",
   "execution_count": 69,
   "metadata": {},
   "outputs": [],
   "source": [
    "train_dataset.to_csv('./dataset/train.csv', index=False)"
   ]
  },
  {
   "cell_type": "code",
   "execution_count": 70,
   "metadata": {},
   "outputs": [],
   "source": [
    "dev_dataset[['Answer', 'Label']] = dev_dataset.apply(generate_answer_and_label, axis=1)\n",
    "dev_dataset.drop(columns=['option_a', 'option_b', 'option_c', 'option_d', 'correct_answer'], inplace=True)\n",
    "dev_dataset.to_csv('./dataset/dev.csv', index=False)\n",
    "test_dataset[['Answer', 'Label']] = test_dataset.apply(generate_answer_and_label, axis=1)\n",
    "test_dataset.drop(columns=['option_a', 'option_b', 'option_c', 'option_d', 'correct_answer'], inplace=True)\n",
    "test_dataset.to_csv('./dataset/test_answer.csv', index=False)\n",
    "test_dataset.drop(columns=['Label'], inplace=True)\n",
    "test_dataset.to_csv('./dataset/test.csv', index=False)"
   ]
  },
  {
   "cell_type": "code",
   "execution_count": 71,
   "metadata": {},
   "outputs": [],
   "source": [
    "# merge context and Answer into text column\n",
    "train_dataset['Merged_Column'] = train_dataset['context'] + ' ' + train_dataset['question'] + ' ' + train_dataset['Answer']\n",
    "train_dataset.drop(columns=['context', 'question', 'Answer'], inplace=True)\n",
    "train_dataset.rename(columns={'Merged_Column': 'text'}, inplace=True)\n",
    "train_dataset.to_csv('./dataset/train_merged_text.csv', index=False)"
   ]
  },
  {
   "cell_type": "code",
   "execution_count": 72,
   "metadata": {},
   "outputs": [],
   "source": [
    "dev_dataset['Merged_Column'] = dev_dataset['context'] + ' ' + dev_dataset['question'] + ' ' + dev_dataset['Answer']\n",
    "dev_dataset.drop(columns=['context', 'question', 'Answer'], inplace=True)\n",
    "dev_dataset.rename(columns={'Merged_Column': 'text'}, inplace=True)\n",
    "dev_dataset.to_csv('./dataset/dev_merged_text.csv', index=False)"
   ]
  },
  {
   "cell_type": "code",
   "execution_count": 73,
   "metadata": {},
   "outputs": [],
   "source": [
    "test_dataset['Merged_Column'] = test_dataset['context'] + ' ' + test_dataset['question'] + ' ' + test_dataset['Answer']\n",
    "test_dataset.drop(columns=['context', 'question', 'Answer'], inplace=True)\n",
    "test_dataset.rename(columns={'Merged_Column': 'text'}, inplace=True)\n",
    "test_dataset.to_csv('./dataset/test_merged_text.csv', index=False)"
   ]
  }
 ],
 "metadata": {
  "kernelspec": {
   "display_name": "Python 3",
   "language": "python",
   "name": "python3"
  },
  "language_info": {
   "codemirror_mode": {
    "name": "ipython",
    "version": 3
   },
   "file_extension": ".py",
   "mimetype": "text/x-python",
   "name": "python",
   "nbconvert_exporter": "python",
   "pygments_lexer": "ipython3",
   "version": "3.11.5"
  }
 },
 "nbformat": 4,
 "nbformat_minor": 2
}
