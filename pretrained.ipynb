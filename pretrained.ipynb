{
 "cells": [
  {
   "cell_type": "code",
   "execution_count": 12,
   "metadata": {},
   "outputs": [],
   "source": [
    "import pandas as pd\n",
    "from transformers import T5Tokenizer, T5ForConditionalGeneration"
   ]
  },
  {
   "cell_type": "code",
   "execution_count": 48,
   "metadata": {},
   "outputs": [
    {
     "data": {
      "text/html": [
       "<div>\n",
       "<style scoped>\n",
       "    .dataframe tbody tr th:only-of-type {\n",
       "        vertical-align: middle;\n",
       "    }\n",
       "\n",
       "    .dataframe tbody tr th {\n",
       "        vertical-align: top;\n",
       "    }\n",
       "\n",
       "    .dataframe thead th {\n",
       "        text-align: right;\n",
       "    }\n",
       "</style>\n",
       "<table border=\"1\" class=\"dataframe\">\n",
       "  <thead>\n",
       "    <tr style=\"text-align: right;\">\n",
       "      <th></th>\n",
       "      <th>context</th>\n",
       "      <th>Answer</th>\n",
       "      <th>Label</th>\n",
       "    </tr>\n",
       "  </thead>\n",
       "  <tbody>\n",
       "    <tr>\n",
       "      <th>0</th>\n",
       "      <td>In the planning of a new district in a townshi...</td>\n",
       "      <td>A.Civic Park is north of the administrative se...</td>\n",
       "      <td>0</td>\n",
       "    </tr>\n",
       "    <tr>\n",
       "      <th>1</th>\n",
       "      <td>The company sent three young staff members to ...</td>\n",
       "      <td>A.20-year-old accountant, 20-year-old salesper...</td>\n",
       "      <td>0</td>\n",
       "    </tr>\n",
       "    <tr>\n",
       "      <th>2</th>\n",
       "      <td>In a traditional Chinese medicine preparation,...</td>\n",
       "      <td>A No dangshen</td>\n",
       "      <td>1</td>\n",
       "    </tr>\n",
       "    <tr>\n",
       "      <th>3</th>\n",
       "      <td>In recent years, graduate entrance examination...</td>\n",
       "      <td>A.If you take an English tutoring class, you c...</td>\n",
       "      <td>1</td>\n",
       "    </tr>\n",
       "    <tr>\n",
       "      <th>4</th>\n",
       "      <td>Zhang Ming, Li Ying, Wang Jia and Chen Rui wor...</td>\n",
       "      <td>A Chen Rui can't speak the Central Plains Mand...</td>\n",
       "      <td>1</td>\n",
       "    </tr>\n",
       "  </tbody>\n",
       "</table>\n",
       "</div>"
      ],
      "text/plain": [
       "                                             context  \\\n",
       "0  In the planning of a new district in a townshi...   \n",
       "1  The company sent three young staff members to ...   \n",
       "2  In a traditional Chinese medicine preparation,...   \n",
       "3  In recent years, graduate entrance examination...   \n",
       "4  Zhang Ming, Li Ying, Wang Jia and Chen Rui wor...   \n",
       "\n",
       "                                              Answer  Label  \n",
       "0  A.Civic Park is north of the administrative se...      0  \n",
       "1  A.20-year-old accountant, 20-year-old salesper...      0  \n",
       "2                                      A No dangshen      1  \n",
       "3  A.If you take an English tutoring class, you c...      1  \n",
       "4  A Chen Rui can't speak the Central Plains Mand...      1  "
      ]
     },
     "execution_count": 48,
     "metadata": {},
     "output_type": "execute_result"
    }
   ],
   "source": [
    "train = pd.read_csv('../dataset/test_answer.csv')\n",
    "train.head()"
   ]
  },
  {
   "cell_type": "code",
   "execution_count": 57,
   "metadata": {},
   "outputs": [],
   "source": [
    "def get_prompt(df):\n",
    "    context = df.context\n",
    "    answer = df.Answer\n",
    "    return f\"\"\"Given that \"{context}\", do you think this is logically correct: \"{answer}\".\n",
    "Answer 1 if it is correct, otherwise answer 0. Your answer:\"\"\""
   ]
  },
  {
   "cell_type": "code",
   "execution_count": 50,
   "metadata": {},
   "outputs": [
    {
     "name": "stderr",
     "output_type": "stream",
     "text": [
      "Special tokens have been added in the vocabulary, make sure the associated word embeddings are fine-tuned or trained.\n"
     ]
    }
   ],
   "source": [
    "tokenizer = T5Tokenizer.from_pretrained('google/flan-t5-large')\n",
    "model = T5ForConditionalGeneration.from_pretrained('google/flan-t5-large')"
   ]
  },
  {
   "cell_type": "code",
   "execution_count": 56,
   "metadata": {},
   "outputs": [
    {
     "name": "stdout",
     "output_type": "stream",
     "text": [
      "Given that \"In the planning of a new district in a township, it was decided to build a special community in the southeast, northwest, centered on the citizen park.These four communities are designated as cultural area, leisure area, commercial area and administrative service area.It is known that the administrative service area is southwest of the cultural area, and the cultural area is southeast of the leisure area.\", do you think this is logically correct: \"A.Civic Park is north of the administrative service area\".\n",
      "<pad> no</s>\n"
     ]
    }
   ],
   "source": [
    "prompt = get_prompt(train.iloc[0])\n",
    "print(prompt)\n",
    "inputs = tokenizer(prompt, return_tensors='pt')\n",
    "outputs = model.generate(**inputs, max_length=100)\n",
    "output = tokenizer.decode(outputs[0])\n",
    "print(output)"
   ]
  },
  {
   "cell_type": "code",
   "execution_count": 58,
   "metadata": {},
   "outputs": [],
   "source": [
    "def get_answer(output):\n",
    "    for char in output:\n",
    "        if char in ['0', '1']:\n",
    "            return int(char)"
   ]
  },
  {
   "cell_type": "code",
   "execution_count": 60,
   "metadata": {},
   "outputs": [
    {
     "name": "stderr",
     "output_type": "stream",
     "text": [
      "Special tokens have been added in the vocabulary, make sure the associated word embeddings are fine-tuned or trained.\n"
     ]
    }
   ],
   "source": [
    "tokenizer = T5Tokenizer.from_pretrained('google/flan-t5-large')\n",
    "model = T5ForConditionalGeneration.from_pretrained('google/flan-t5-large')\n",
    "predictions = []\n",
    "for i in range(len(train)):\n",
    "    prompt = get_prompt(train.iloc[i])\n",
    "    inputs = tokenizer(prompt, return_tensors='pt')\n",
    "    outputs = model.generate(**inputs)\n",
    "    output = tokenizer.decode(outputs[0])\n",
    "    predictions.append(get_answer(output))"
   ]
  },
  {
   "cell_type": "code",
   "execution_count": 61,
   "metadata": {},
   "outputs": [
    {
     "name": "stdout",
     "output_type": "stream",
     "text": [
      "F1: 0.27411167512690354, Accuracy: 0.506896551724138, Precision: 0.5192307692307693, Recall: 0.18620689655172415\n"
     ]
    }
   ],
   "source": [
    "from sklearn.metrics import f1_score, accuracy_score, precision_score, recall_score\n",
    "y_true = train['Label']\n",
    "y_pred = predictions\n",
    "f1 = f1_score(y_true, y_pred)\n",
    "accuracy = accuracy_score(y_true, y_pred)\n",
    "precision = precision_score(y_true, y_pred)\n",
    "recall = recall_score(y_true, y_pred)\n",
    "print(f'F1: {f1}, Accuracy: {accuracy}, Precision: {precision}, Recall: {recall}')"
   ]
  }
 ],
 "metadata": {
  "kernelspec": {
   "display_name": "Python 3",
   "language": "python",
   "name": "python3"
  },
  "language_info": {
   "codemirror_mode": {
    "name": "ipython",
    "version": 3
   },
   "file_extension": ".py",
   "mimetype": "text/x-python",
   "name": "python",
   "nbconvert_exporter": "python",
   "pygments_lexer": "ipython3",
   "version": "3.11.5"
  },
  "orig_nbformat": 4,
  "vscode": {
   "interpreter": {
    "hash": "d786e9b238a8194aabc29cf5c8c3b502b60ab8f35d642aa0280c99f1f3b2b948"
   }
  }
 },
 "nbformat": 4,
 "nbformat_minor": 2
}
